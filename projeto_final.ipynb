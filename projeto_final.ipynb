{
 "cells": [
  {
   "cell_type": "markdown",
   "metadata": {},
   "source": [
    "### Importação das bibliotecas"
   ]
  },
  {
   "cell_type": "code",
   "execution_count": 1,
   "metadata": {},
   "outputs": [],
   "source": [
    "import pandas as pd\n",
    "import numpy as np"
   ]
  },
  {
   "cell_type": "markdown",
   "metadata": {},
   "source": [
    "### Importação da Database"
   ]
  },
  {
   "cell_type": "code",
   "execution_count": 2,
   "metadata": {},
   "outputs": [],
   "source": [
    "df_escolas = pd.read_csv('db/escolas.csv', encoding='utf-8')\n",
    "df_subprefeituras = pd.read_csv('db/subprefeituras.csv', encoding='utf-8')\n",
    "df_material_didatico = pd.read_csv('db/material_didatico.csv', encoding='utf-8')"
   ]
  },
  {
   "cell_type": "markdown",
   "metadata": {},
   "source": [
    "### Padronização dos dados"
   ]
  },
  {
   "cell_type": "code",
   "execution_count": 3,
   "metadata": {},
   "outputs": [],
   "source": [
    "# Nome das colunas em snake_case\n",
    "df_escolas.columns = df_escolas.columns.str.lower().str.strip().str.replace(' ', '_')\n",
    "df_subprefeituras.columns = df_subprefeituras.columns.str.lower().str.strip().str.replace(' ', '_')\n",
    "df_material_didatico.columns = df_material_didatico.columns.str.lower().str.strip().str.replace(' ', '_')\n",
    "\n",
    "# Strings não devem conter acentos && Todas as strings devem estar em maiúsculo\n",
    "df_escolas['escolas_postos'] = df_escolas['escolas_postos'].str.normalize(\"NFKD\").str.encode('ascii', errors='ignore').str.decode('utf-8').str.upper()\n",
    "df_escolas['bairro'] = df_escolas['bairro'].str.normalize(\"NFKD\").str.encode('ascii', errors='ignore').str.decode('utf-8').str.upper()\n",
    "df_escolas['endereço'] = df_escolas['endereço'].str.normalize(\"NFKD\").str.encode('ascii', errors='ignore').str.decode('utf-8').str.upper()\n",
    "df_subprefeituras[\"nome\"] = df_subprefeituras[\"nome\"].str.normalize(\"NFKD\").str.encode('ascii', errors='ignore').str.decode('utf-8').str.upper()\n",
    "df_subprefeituras[\"subprefeitura\"] = df_subprefeituras[\"subprefeitura\"].str.normalize(\"NFKD\").str.encode('ascii', errors='ignore').str.decode('utf-8').str.upper()\n",
    "\n",
    "# Nome dos logradouros sem abreviação\n",
    "df_escolas['endereço'] = df_escolas['endereço'].str.replace('R.', 'RUA', regex=False)\n",
    "df_escolas['endereço'] = df_escolas['endereço'].str.replace('AV.', 'AVENIDA',regex=False)\n",
    "df_escolas['endereço'] = df_escolas['endereço'].str.replace('PCA.', 'PRACA',regex=False)\n",
    "df_escolas['endereço'] = df_escolas['endereço'].str.replace('ESTR.', 'ESTRADA',regex=False)\n",
    "\n",
    "# Latitude e longitude com apenas 5 casas decimais\n",
    "df_escolas[\"lat\"] = df_escolas[\"lat\"].str.replace(',','.',regex=False).astype(float).round(5)\n",
    "df_escolas[\"lon\"] = df_escolas[\"lon\"].str.replace(',','.',regex=False).astype(float).round(5)\n",
    "\n",
    "# Ids devem ser strings com 3 caracteres (Ex: '024')\n",
    "df_escolas[\"id\"] = df_escolas[\"id\"].apply(lambda x: str(x).zfill(3))\n",
    "df_material_didatico[\"id\"] = df_material_didatico[\"id\"].apply(lambda x: str(x).zfill(3))"
   ]
  },
  {
   "cell_type": "code",
   "execution_count": 5,
   "metadata": {},
   "outputs": [
    {
     "data": {
      "text/html": [
       "<div>\n",
       "<style scoped>\n",
       "    .dataframe tbody tr th:only-of-type {\n",
       "        vertical-align: middle;\n",
       "    }\n",
       "\n",
       "    .dataframe tbody tr th {\n",
       "        vertical-align: top;\n",
       "    }\n",
       "\n",
       "    .dataframe thead th {\n",
       "        text-align: right;\n",
       "    }\n",
       "</style>\n",
       "<table border=\"1\" class=\"dataframe\">\n",
       "  <thead>\n",
       "    <tr style=\"text-align: right;\">\n",
       "      <th></th>\n",
       "      <th>id</th>\n",
       "      <th>quantidade</th>\n",
       "    </tr>\n",
       "  </thead>\n",
       "  <tbody>\n",
       "    <tr>\n",
       "      <th>0</th>\n",
       "      <td>178</td>\n",
       "      <td>20</td>\n",
       "    </tr>\n",
       "    <tr>\n",
       "      <th>1</th>\n",
       "      <td>634</td>\n",
       "      <td>121</td>\n",
       "    </tr>\n",
       "    <tr>\n",
       "      <th>2</th>\n",
       "      <td>483</td>\n",
       "      <td>220</td>\n",
       "    </tr>\n",
       "    <tr>\n",
       "      <th>3</th>\n",
       "      <td>476</td>\n",
       "      <td>190</td>\n",
       "    </tr>\n",
       "    <tr>\n",
       "      <th>4</th>\n",
       "      <td>132</td>\n",
       "      <td>67</td>\n",
       "    </tr>\n",
       "    <tr>\n",
       "      <th>...</th>\n",
       "      <td>...</td>\n",
       "      <td>...</td>\n",
       "    </tr>\n",
       "    <tr>\n",
       "      <th>146</th>\n",
       "      <td>474</td>\n",
       "      <td>320</td>\n",
       "    </tr>\n",
       "    <tr>\n",
       "      <th>147</th>\n",
       "      <td>301</td>\n",
       "      <td>335</td>\n",
       "    </tr>\n",
       "    <tr>\n",
       "      <th>148</th>\n",
       "      <td>215</td>\n",
       "      <td>NaN</td>\n",
       "    </tr>\n",
       "    <tr>\n",
       "      <th>149</th>\n",
       "      <td>606</td>\n",
       "      <td>521</td>\n",
       "    </tr>\n",
       "    <tr>\n",
       "      <th>150</th>\n",
       "      <td>590</td>\n",
       "      <td>225</td>\n",
       "    </tr>\n",
       "  </tbody>\n",
       "</table>\n",
       "<p>151 rows × 2 columns</p>\n",
       "</div>"
      ],
      "text/plain": [
       "      id quantidade\n",
       "0    178         20\n",
       "1    634        121\n",
       "2    483        220\n",
       "3    476        190\n",
       "4    132         67\n",
       "..   ...        ...\n",
       "146  474        320\n",
       "147  301        335\n",
       "148  215        NaN\n",
       "149  606        521\n",
       "150  590        225\n",
       "\n",
       "[151 rows x 2 columns]"
      ]
     },
     "execution_count": 5,
     "metadata": {},
     "output_type": "execute_result"
    }
   ],
   "source": [
    "df_material_didatico"
   ]
  }
 ],
 "metadata": {
  "kernelspec": {
   "display_name": "Python 3",
   "language": "python",
   "name": "python3"
  },
  "language_info": {
   "codemirror_mode": {
    "name": "ipython",
    "version": 3
   },
   "file_extension": ".py",
   "mimetype": "text/x-python",
   "name": "python",
   "nbconvert_exporter": "python",
   "pygments_lexer": "ipython3",
   "version": "3.10.12"
  },
  "orig_nbformat": 4
 },
 "nbformat": 4,
 "nbformat_minor": 2
}
